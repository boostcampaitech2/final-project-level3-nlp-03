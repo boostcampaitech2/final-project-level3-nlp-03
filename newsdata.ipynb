{
 "cells": [
  {
   "cell_type": "code",
   "execution_count": null,
   "id": "0f43d959-f476-412b-815b-a532b5a18481",
   "metadata": {},
   "outputs": [],
   "source": [
    "# # 압축 풀기\n",
    "# import shutil\n",
    "\n",
    "# filename = 'data/NIKL_NEWSPAPER_2020_v1.1.zip'\n",
    "# extract_dir = './data/NIKL_NEWSPAPER_2020_v1.1'\n",
    "# archive_format = \"zip\"\n",
    "\n",
    "# shutil.unpack_archive(filename, extract_dir, archive_format)"
   ]
  },
  {
   "cell_type": "markdown",
   "id": "3331ba52-03d8-4021-bb74-b9ad01707560",
   "metadata": {
    "tags": []
   },
   "source": [
    "## 신문 말뭉치"
   ]
  },
  {
   "cell_type": "code",
   "execution_count": null,
   "id": "d7d129f1-05ee-42f4-95d5-c608440eeb3e",
   "metadata": {},
   "outputs": [],
   "source": [
    "# !git clone https://github.com/ko-nlp/Korpora\n",
    "# !python setup.py install"
   ]
  },
  {
   "cell_type": "code",
   "execution_count": null,
   "id": "cede17e8-c610-4f44-9653-01e8f03c9769",
   "metadata": {},
   "outputs": [],
   "source": [
    "# !pip install pandas==1.1.5\n",
    "# !pip install Korpora\n",
    "# !pip install ray\n",
    "# !pip install kss\n",
    "# !python -m pip install regex"
   ]
  },
  {
   "cell_type": "code",
   "execution_count": null,
   "id": "ee3699a0-7104-4c89-9b88-f393f6d195ef",
   "metadata": {},
   "outputs": [],
   "source": [
    "import pandas as pd\n",
    "from tqdm import tqdm\n",
    "import kss\n",
    "import re\n",
    "\n",
    "import ray\n",
    "from itertools import chain"
   ]
  },
  {
   "cell_type": "code",
   "execution_count": null,
   "id": "e6fbb6e6-9a39-4672-a4cf-2d1b3d77af57",
   "metadata": {},
   "outputs": [],
   "source": [
    "from konlpy.tag import Mecab\n",
    "mecab = Mecab()"
   ]
  },
  {
   "cell_type": "code",
   "execution_count": null,
   "id": "02b7f1df-00c6-4410-a98a-ae7770b0dce3",
   "metadata": {},
   "outputs": [],
   "source": [
    "from Korpora import Korpora\n",
    "\n",
    "news_path = \"./data/NIKL_NEWSPAPER_2020_v1.1/newspaper\"\n",
    "modu_news = Korpora.load(\"modu_news\", root_dir=news_path)"
   ]
  },
  {
   "cell_type": "code",
   "execution_count": null,
   "id": "f8b8d383-0a0c-4eb8-afe2-ccc79cae9d71",
   "metadata": {},
   "outputs": [],
   "source": [
    "len(modu_news.get_all_texts())"
   ]
  },
  {
   "cell_type": "code",
   "execution_count": null,
   "id": "a038f457-86e6-4a50-b262-8c188825e1a8",
   "metadata": {},
   "outputs": [],
   "source": [
    "splited_sentences = []\n",
    "corpus = modu_news.get_all_texts()"
   ]
  },
  {
   "cell_type": "code",
   "execution_count": null,
   "id": "41005fd0-566c-4acc-9516-7c779b3d4dd9",
   "metadata": {},
   "outputs": [],
   "source": [
    "corpus = corpus[0:20000]"
   ]
  },
  {
   "cell_type": "code",
   "execution_count": null,
   "id": "d4ffaaf0-7d60-4b44-a373-1f4831f77b83",
   "metadata": {},
   "outputs": [],
   "source": [
    "ray.init()"
   ]
  },
  {
   "cell_type": "code",
   "execution_count": null,
   "id": "a80139e7-bf14-4efb-b082-6752f77f0fee",
   "metadata": {},
   "outputs": [],
   "source": [
    "@ray.remote\n",
    "def split_sentences(corpus):\n",
    "    splited_sentences = []\n",
    "    \n",
    "    for sentences in tqdm(corpus):\n",
    "        if '_ ' in sentences: # 시상식 소감. 구어체라 사용 안함\n",
    "            continue\n",
    "            \n",
    "        title_idx = sentences.find('\\n')\n",
    "        sentences = sentences[title_idx+1:] # 제목 제거\n",
    "\n",
    "        sentences = re.sub(r'\\s', ' ', sentences)\n",
    "        sentences = re.sub('\\u200b', ' ', sentences)\n",
    "        sentences = re.sub('[◇◈◆▲△▷▶■ㅇ♡❤♥★�]','',sentences)\n",
    "        sentences = sentences.replace(\"\\\"\", \"\")\n",
    "        \n",
    "        kss_sentence = kss.split_sentences(sentences, backend='mecab', num_workers=4)\n",
    "        splited_sentences.extend(kss_sentence)\n",
    "                        \n",
    "    return splited_sentences"
   ]
  },
  {
   "cell_type": "code",
   "execution_count": null,
   "id": "a26581de-9d54-48c2-aaed-19fdcb196aaf",
   "metadata": {
    "scrolled": true,
    "tags": []
   },
   "outputs": [],
   "source": [
    "def chunker_list(seq, size):\n",
    "    return (seq[i::size] for i in range(size))\n",
    "\n",
    "# 프로세스 개수\n",
    "process_num = 10\n",
    "\n",
    "# 프로세스 개수만큼 corpus 분리\n",
    "sentences_chunk = list(chunker_list(corpus, process_num))\n",
    "\n",
    "# ray를 이용해 멀티프로세싱\n",
    "futures = [split_sentences.remote(sentences_chunk[i]) for i in range(process_num)]\n",
    "\n",
    "# 결과를 1-d로 합치기\n",
    "results = ray.get(futures)\n",
    "results = list(chain.from_iterable(results))"
   ]
  },
  {
   "cell_type": "code",
   "execution_count": null,
   "id": "f984f023-2aad-4309-9c5d-dedab3090575",
   "metadata": {},
   "outputs": [],
   "source": [
    "len(results)"
   ]
  },
  {
   "cell_type": "code",
   "execution_count": null,
   "id": "472a72df-ca62-4ed5-b2a0-7056c09cfa08",
   "metadata": {},
   "outputs": [],
   "source": [
    "no_spacing = []\n",
    "\n",
    "for s in results:\n",
    "    no_spacing.append(s.replace(\" \",\"\"))"
   ]
  },
  {
   "cell_type": "code",
   "execution_count": null,
   "id": "adf0598c-e095-4468-aa70-7687fa99345f",
   "metadata": {},
   "outputs": [],
   "source": [
    "import random\n",
    "\n",
    "random_spacing = []\n",
    "\n",
    "for sentence in tqdm(no_spacing):\n",
    "    k = len(sentence)//3\n",
    "\n",
    "    tmp = sorted(random.sample(range(1,len(sentence)),k))\n",
    "    \n",
    "    tmp_list = list(sentence)\n",
    "    for i, val in enumerate(tmp):\n",
    "        tmp_list.insert(val+i, ' ')\n",
    "    random_spacing.append(''.join(tmp_list))"
   ]
  },
  {
   "cell_type": "code",
   "execution_count": null,
   "id": "d772abc3-dc73-4209-adf5-b90624800825",
   "metadata": {},
   "outputs": [],
   "source": [
    "data = {'correct_sentence':results, 'wrong_sentence':random_spacing}\n",
    "df = pd.DataFrame(data = data, columns=['correct_sentence','wrong_sentence'])"
   ]
  },
  {
   "cell_type": "code",
   "execution_count": null,
   "id": "e46684c6-7a00-4d92-9445-76286193b148",
   "metadata": {},
   "outputs": [],
   "source": [
    "df.to_csv(\"./news_data.csv\",sep=',')"
   ]
  },
  {
   "cell_type": "code",
   "execution_count": null,
   "id": "9acfeb3d-39f2-4a2d-a37a-f6b7fb308fe2",
   "metadata": {},
   "outputs": [],
   "source": [
    "len(df)"
   ]
  },
  {
   "cell_type": "code",
   "execution_count": null,
   "id": "484d1058-2047-4c92-96f2-56f5b1a54740",
   "metadata": {},
   "outputs": [],
   "source": [
    "ray.shutdown()"
   ]
  },
  {
   "cell_type": "markdown",
   "id": "b8d13361-0ce0-4e5d-89f3-2d8112cfc994",
   "metadata": {},
   "source": [
    "### 문어 말뭉치"
   ]
  },
  {
   "cell_type": "code",
   "execution_count": null,
   "id": "f68e19aa-ac05-4644-85cb-740bb1a7ec7b",
   "metadata": {},
   "outputs": [],
   "source": [
    "import json\n",
    "import pandas as pd\n",
    "import os\n",
    "\n",
    "wr_path = \"./data/NIKL_WRITTEN(v1.0)/written\"\n",
    "file_list = os.listdir(wr_path)\n",
    "# print(file_list)\n",
    "# print (\"file_list: {}\".format(file_list))"
   ]
  },
  {
   "cell_type": "code",
   "execution_count": null,
   "id": "93da11d4-e731-479a-a53c-58e503ebd798",
   "metadata": {
    "tags": []
   },
   "outputs": [],
   "source": [
    "wr_data = []\n",
    "category = {}\n",
    "annotation = {}\n",
    "sentence = []\n",
    "\n",
    "for f in file_list:\n",
    "    if f[0] == \".\":\n",
    "        continue\n",
    "        \n",
    "    f = \"./data/NIKL_WRITTEN(v1.0)/written/\" + f\n",
    "    wr_data = json.load(open(f))\n",
    "    \n",
    "    paragraph = wr_data['document'][0]['paragraph']\n",
    "\n",
    "    ca = wr_data['metadata']['category']\n",
    "    # an = wr_data['metadata']['annotation_level'][0]\n",
    "    \n",
    "    # 문어 말뭉치 카테고리 확인\n",
    "    if ca in category:\n",
    "        category[ca] += 1\n",
    "    else:\n",
    "        category[ca] = 1\n",
    "\n",
    "    for p in range(len(paragraph)):\n",
    "        sentence.append(paragraph[p]['form'])\n",
    "    \n",
    "print(len(sentence))"
   ]
  }
 ],
 "metadata": {
  "kernelspec": {
   "display_name": "Python 3 (ipykernel)",
   "language": "python",
   "name": "python3"
  },
  "language_info": {
   "codemirror_mode": {
    "name": "ipython",
    "version": 3
   },
   "file_extension": ".py",
   "mimetype": "text/x-python",
   "name": "python",
   "nbconvert_exporter": "python",
   "pygments_lexer": "ipython3",
   "version": "3.7.11"
  }
 },
 "nbformat": 4,
 "nbformat_minor": 5
}
